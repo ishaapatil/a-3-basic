{
 "cells": [
  {
   "cell_type": "raw",
   "id": "968f787e",
   "metadata": {},
   "source": [
    "Ans-01"
   ]
  },
  {
   "cell_type": "code",
   "execution_count": 2,
   "id": "8d3af178",
   "metadata": {},
   "outputs": [
    {
     "name": "stdout",
     "output_type": "stream",
     "text": [
      "Enter the value in km:56\n",
      "56.00 kilometre is equal to 34.80 miles\n"
     ]
    }
   ],
   "source": [
    "kilometers=float(input(\"Enter the value in km:\"))\n",
    "conv_fac=0.621371\n",
    "miles=kilometers*conv_fac\n",
    "print('%0.2f kilometre is equal to %0.2f miles'%(kilometers,miles))"
   ]
  },
  {
   "cell_type": "raw",
   "id": "43e2afcf",
   "metadata": {},
   "source": [
    "Ans-02"
   ]
  },
  {
   "cell_type": "code",
   "execution_count": 9,
   "id": "1f34e08e",
   "metadata": {},
   "outputs": [
    {
     "name": "stdout",
     "output_type": "stream",
     "text": [
      "Temperature value in degree Fahrenheit: 56\n",
      "The 56.00 degree Fahrenheit is equal to: 13.33 Celsius\n"
     ]
    }
   ],
   "source": [
    "Fahrenheit_1 = float( input(\"Temperature value in degree Fahrenheit: \" ))  \n",
    "celsius_1 = (Fahrenheit_1 - 32)  / 1.8  \n",
    "print ('The %.2f degree Fahrenheit is equal to: %.2f Celsius'  \n",
    "      %(Fahrenheit_1, celsius_1))  "
   ]
  },
  {
   "cell_type": "raw",
   "id": "1570c1c5",
   "metadata": {},
   "source": [
    "Ans-03"
   ]
  },
  {
   "cell_type": "code",
   "execution_count": 13,
   "id": "57cb9773",
   "metadata": {},
   "outputs": [
    {
     "name": "stdout",
     "output_type": "stream",
     "text": [
      "Enter Year:2000\n",
      "Enter Month:7\n",
      "     July 2000\n",
      "Mo Tu We Th Fr Sa Su\n",
      "                1  2\n",
      " 3  4  5  6  7  8  9\n",
      "10 11 12 13 14 15 16\n",
      "17 18 19 20 21 22 23\n",
      "24 25 26 27 28 29 30\n",
      "31\n",
      "\n"
     ]
    }
   ],
   "source": [
    "import calendar\n",
    "yy=int(input(\"Enter Year:\"))\n",
    "mm=int(input(\"Enter Month:\"))\n",
    "print(calendar.month(yy,mm))"
   ]
  },
  {
   "cell_type": "raw",
   "id": "427ee7bf",
   "metadata": {},
   "source": [
    "Ans-04"
   ]
  },
  {
   "cell_type": "code",
   "execution_count": 15,
   "id": "06c6b7d4",
   "metadata": {},
   "outputs": [
    {
     "name": "stdout",
     "output_type": "stream",
     "text": [
      "The solution are (-3+0j) and (-2+0j)\n"
     ]
    }
   ],
   "source": [
    "import cmath\n",
    "a = 1\n",
    "b = 5\n",
    "c = 6\n",
    "d = (b**2) - (4*a*c)\n",
    "sol1 = (-b-cmath.sqrt(d))/(2*a)\n",
    "sol2 = (-b+cmath.sqrt(d))/(2*a)\n",
    "print('The solution are {0} and {1}'.format(sol1,sol2))\n"
   ]
  },
  {
   "cell_type": "raw",
   "id": "8ce6931a",
   "metadata": {},
   "source": [
    "Ans 05"
   ]
  },
  {
   "cell_type": "code",
   "execution_count": 22,
   "id": "fe555432",
   "metadata": {},
   "outputs": [
    {
     "name": "stdout",
     "output_type": "stream",
     "text": [
      "Before Swapping\n",
      "Value of x: 56 Value of y: 78\n",
      "After Swapping\n",
      "Value of x: 78 Value of y: 56\n"
     ]
    }
   ],
   "source": [
    "x=56\n",
    "y=78\n",
    "print(\"Before Swapping\")\n",
    "print(\"Value of x:\",x,\"Value of y:\",y)\n",
    "x,y=y,x\n",
    "print(\"After Swapping\")\n",
    "print(\"Value of x:\",x,\"Value of y:\",y)\n"
   ]
  },
  {
   "cell_type": "code",
   "execution_count": null,
   "id": "cad19a27",
   "metadata": {},
   "outputs": [],
   "source": []
  }
 ],
 "metadata": {
  "kernelspec": {
   "display_name": "Python 3 (ipykernel)",
   "language": "python",
   "name": "python3"
  },
  "language_info": {
   "codemirror_mode": {
    "name": "ipython",
    "version": 3
   },
   "file_extension": ".py",
   "mimetype": "text/x-python",
   "name": "python",
   "nbconvert_exporter": "python",
   "pygments_lexer": "ipython3",
   "version": "3.9.12"
  }
 },
 "nbformat": 4,
 "nbformat_minor": 5
}
